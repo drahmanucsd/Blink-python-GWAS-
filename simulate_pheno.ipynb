{
 "cells": [
  {
   "cell_type": "markdown",
   "id": "d77bbde8",
   "metadata": {},
   "source": [
    "# Overview\n",
    "* Install haptools to process the vcf file (https://haptools.readthedocs.io/en/stable/index.html)\n",
    "* Get the vcf data from 1000 Genomes (In our project we will be using chr 21)\n",
    "* Convert VCF file (.vcf.gz) to a hap file (.hap)\n",
    "* Simulate phenotypes"
   ]
  },
  {
   "cell_type": "markdown",
   "id": "b51e2157",
   "metadata": {},
   "source": [
    "# Installing haptools "
   ]
  },
  {
   "cell_type": "code",
   "execution_count": 6,
   "id": "21360f92",
   "metadata": {},
   "outputs": [],
   "source": [
    "# Allows us to run haptools in your directory\n",
    "pip install haptools\n",
    "ls ~/.local/bin/\n",
    "export PATH=$PATH:$HOME/.local/bin"
   ]
  },
  {
   "cell_type": "markdown",
   "id": "7b092cd8",
   "metadata": {},
   "source": [
    "# Retriving the Real World Data"
   ]
  },
  {
   "cell_type": "markdown",
   "id": "92fb13e7",
   "metadata": {},
   "source": [
    "Chromosome 21 Real Data For Genotypes (1000 Genomes phase 1 release)\n",
    "ftp://ftp.1000genomes.ebi.ac.uk/vol1/ftp/phase1/analysis_results/integrated_call_sets/ALL.chr21.integrated_phase1_v3.20101123.snps_indels_svs.genotypes.vcf.gz"
   ]
  },
  {
   "cell_type": "code",
   "execution_count": null,
   "id": "759b8e47",
   "metadata": {},
   "outputs": [],
   "source": [
    "# wget [insert .vcf.gz file here]\n",
    "wget ftp://ftp.1000genomes.ebi.ac.uk/vol1/ftp/phase1/analysis_results/integrated_call_sets/ALL.chr21.integrated_phase1_v3.20101123.snps_indels_svs.genotypes.vcf.gz\n",
    "    \n",
    "# zcat [insert .vcf.gz file here] | less -S\n",
    "zcat ALL.chr21.integrated_phase1_v3.20101123.snps_indels_svs.genotypes.vcf.gz | less -S\n",
    "\n",
    "# \"ctrl+v\" to scroll through the page to look for variants you are interested in"
   ]
  },
  {
   "cell_type": "markdown",
   "id": "ac1cd078",
   "metadata": {},
   "source": [
    "# Converting .vcf files to .hap\n",
    "\n",
    "The code below was used from the haptools documentation: https://haptools.readthedocs.io/en/stable/api/examples.html#api-examples-snps2hap (given permission to use this pre-written code)"
   ]
  },
  {
   "cell_type": "code",
   "execution_count": 7,
   "id": "4bb9224d",
   "metadata": {},
   "outputs": [],
   "source": [
    "from haptools import data\n",
    "from haptools.sim_phenotype import Haplotype\n",
    "\n",
    "# which variants do we want to write to the haplotype file?\n",
    "variants = {\"rs149635655\", \"rs141306699\"}\n",
    "\n",
    "# load the genotypes file\n",
    "# you can use either a VCF or PGEN file\n",
    "gt = data.GenotypesVCF(\"ALL.chr21.integrated_phase1_v3.20101123.snps_indels_svs.genotypes.vcf.gz\")\n",
    "gt.read(variants=variants)\n",
    "\n",
    "# initialize an empty haplotype file\n",
    "hp = data.Haplotypes(\"output.hap\", haplotype=Haplotype)\n",
    "hp.data = {}\n",
    "\n",
    "for variant in gt.variants:\n",
    "    ID, chrom, pos, alleles = variant[[\"id\", \"chrom\", \"pos\", \"alleles\"]]\n",
    "    end = pos + len(alleles[1])\n",
    "\n",
    "    # create a haplotype line in the .hap file\n",
    "    # you should fill out \"beta\" with your own value\n",
    "    hp.data[ID] = Haplotype(chrom=chrom, start=pos, end=end, id=ID, beta=0.5)\n",
    "\n",
    "    # create variant lines for each haplotype\n",
    "    hp.data[ID].variants = (data.Variant(start=pos, end=end, id=ID, allele=alleles[1]),)\n",
    "\n",
    "hp.write()"
   ]
  },
  {
   "cell_type": "markdown",
   "id": "60fc054b",
   "metadata": {},
   "source": [
    "# Use haptools to simulate phenotypes\n",
    "\n",
    "haptools simphenotype \\\n",
    "--replications INT \\\n",
    "--heritability FLOAT \\\n",
    "--prevalence FLOAT \\\n",
    "--region TEXT \\\n",
    "--sample SAMPLE --sample SAMPLE \\\n",
    "--samples-file FILENAME \\\n",
    "--id ID --id ID \\\n",
    "--ids-file FILENAME \\\n",
    "--chunk-size INT \\\n",
    "--output PATH \\\n",
    "--verbosity [CRITICAL|ERROR|WARNING|INFO|DEBUG|NOTSET] \\\n",
    "GENOTYPES HAPLOTYPES"
   ]
  },
  {
   "cell_type": "code",
   "execution_count": null,
   "id": "93335d0e",
   "metadata": {},
   "outputs": [],
   "source": [
    "# Index the .vcf.gz file using tabix so we can retrieve information from the file faster\n",
    "tabix -p vcf ALL.chr21.integrated_phase1_v3.20101123.snps_indels_svs.genotypes.vcf.gz\n",
    "\n",
    "# Uses the haptools function simphenotype to simulate phenotypes for our genotypes so we can run GWAS on it\n",
    "haptools simphenotype ALL.chr21.integrated_phase1_v3.20101123.snps_indels_svs.genotypes.vcf.gz output.hap -o simulated.pheno"
   ]
  }
 ],
 "metadata": {
  "kernelspec": {
   "display_name": "Python 3 (ipykernel)",
   "language": "python",
   "name": "python3"
  },
  "language_info": {
   "codemirror_mode": {
    "name": "ipython",
    "version": 3
   },
   "file_extension": ".py",
   "mimetype": "text/x-python",
   "name": "python",
   "nbconvert_exporter": "python",
   "pygments_lexer": "ipython3",
   "version": "3.9.5"
  }
 },
 "nbformat": 4,
 "nbformat_minor": 5
}
