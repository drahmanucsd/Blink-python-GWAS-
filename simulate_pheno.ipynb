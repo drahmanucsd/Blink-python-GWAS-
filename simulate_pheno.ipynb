{
 "cells": [
  {
   "cell_type": "markdown",
   "id": "d77bbde8",
   "metadata": {},
   "source": [
    "# Overview\n",
    "* Install haptools to process the vcf file (https://haptools.readthedocs.io/en/stable/index.html)\n",
    "* Get the vcf data from 1000 Genomes (In our project we will be using chr 21)\n",
    "* Convert VCF file (.vcf.gz) to a hap file (.hap)\n",
    "* Simulate phenotypes"
   ]
  },
  {
   "cell_type": "markdown",
   "id": "b51e2157",
   "metadata": {},
   "source": [
    "# Installing haptools "
   ]
  },
  {
   "cell_type": "code",
   "execution_count": 6,
   "id": "21360f92",
   "metadata": {},
   "outputs": [],
   "source": [
    "# Allows us to run haptools in your directory\n",
    "pip install haptools\n",
    "ls ~/.local/bin/\n",
    "export PATH=$PATH:$HOME/.local/bin"
   ]
  },
  {
   "cell_type": "markdown",
   "id": "7b092cd8",
   "metadata": {},
   "source": [
    "# Retriving the Real World Data"
   ]
  },
  {
   "cell_type": "markdown",
   "id": "92fb13e7",
   "metadata": {},
   "source": [
    "Chromosome 21 Real Data For Genotypes (1000 Genomes phase 1 release)\n",
    "ftp://ftp.1000genomes.ebi.ac.uk/vol1/ftp/phase1/analysis_results/integrated_call_sets/ALL.chr21.integrated_phase1_v3.20101123.snps_indels_svs.genotypes.vcf.gz"
   ]
  },
  {
   "cell_type": "code",
   "execution_count": null,
   "id": "759b8e47",
   "metadata": {},
   "outputs": [],
   "source": [
    "# wget [insert .vcf.gz file here]\n",
    "wget ftp://ftp.1000genomes.ebi.ac.uk/vol1/ftp/phase1/analysis_results/integrated_call_sets/ALL.chr21.integrated_phase1_v3.20101123.snps_indels_svs.genotypes.vcf.gz\n",
    "    \n",
    "# zcat [insert .vcf.gz file here] | less -S\n",
    "zcat ALL.chr21.integrated_phase1_v3.20101123.snps_indels_svs.genotypes.vcf.gz | less -S\n",
    "\n",
    "# \"ctrl+v\" to scroll through the page to look for variants you are interested in"
   ]
  },
  {
   "cell_type": "markdown",
   "id": "ac1cd078",
   "metadata": {},
   "source": [
    "# Converting .vcf files to .hap\n",
    "\n",
    "The code below was used from the haptools documentation: https://haptools.readthedocs.io/en/stable/api/examples.html#api-examples-snps2hap (given permission to use this pre-written code)"
   ]
  },
  {
   "cell_type": "code",
   "execution_count": 2,
   "id": "4bb9224d",
   "metadata": {},
   "outputs": [
    {
     "name": "stderr",
     "output_type": "stream",
     "text": [
      "[W::bcf_hdr_check_sanity] GL should be declared as Number=G\n"
     ]
    }
   ],
   "source": [
    "from haptools import data\n",
    "from haptools.sim_phenotype import Haplotype\n",
    "\n",
    "# which variants do we want to write to the haplotype file?\n",
    "variants = {\"rs149635655\", \"rs141306699\"}\n",
    "\n",
    "# load the genotypes file\n",
    "# you can use either a VCF or PGEN file\n",
    "gt = data.GenotypesVCF(\"ALL.chr21.integrated_phase1_v3.20101123.snps_indels_svs.genotypes.vcf.gz\")\n",
    "gt.read(variants=variants)\n",
    "\n",
    "# initialize an empty haplotype file\n",
    "hp = data.Haplotypes(\"output.hap\", haplotype=Haplotype)\n",
    "hp.data = {}\n",
    "\n",
    "for variant in gt.variants:\n",
    "    ID, chrom, pos, alleles = variant[[\"id\", \"chrom\", \"pos\", \"alleles\"]]\n",
    "    end = pos + len(alleles[1])\n",
    "\n",
    "    # create a haplotype line in the .hap file\n",
    "    # you should fill out \"beta\" with your own value\n",
    "    hp.data[ID] = Haplotype(chrom=chrom, start=pos, end=end, id=ID, beta=0.5)\n",
    "\n",
    "    # create variant lines for each haplotype\n",
    "    hp.data[ID].variants = (data.Variant(start=pos, end=end, id=ID, allele=alleles[1]),)\n",
    "\n",
    "hp.write()"
   ]
  },
  {
   "cell_type": "markdown",
   "id": "60fc054b",
   "metadata": {},
   "source": [
    "# Use haptools to simulate phenotypes\n",
    "\n",
    "haptools simphenotype \\\n",
    "--replications INT \\\n",
    "--heritability FLOAT \\\n",
    "--prevalence FLOAT \\\n",
    "--region TEXT \\\n",
    "--sample SAMPLE --sample SAMPLE \\\n",
    "--samples-file FILENAME \\\n",
    "--id ID --id ID \\\n",
    "--ids-file FILENAME \\\n",
    "--chunk-size INT \\\n",
    "--output PATH \\\n",
    "--verbosity [CRITICAL|ERROR|WARNING|INFO|DEBUG|NOTSET] \\\n",
    "GENOTYPES HAPLOTYPES"
   ]
  },
  {
   "cell_type": "code",
   "execution_count": 8,
   "id": "93335d0e",
   "metadata": {},
   "outputs": [
    {
     "name": "stdout",
     "output_type": "stream",
     "text": [
      "Defaulting to user installation because normal site-packages is not writeable\n",
      "Requirement already satisfied: haptools in /home/jtliew/.local/lib/python3.9/site-packages (0.2.1)\n",
      "Requirement already satisfied: click>=8.0.3 in /home/jtliew/.local/lib/python3.9/site-packages (from haptools) (8.1.3)\n",
      "Requirement already satisfied: cyvcf2>=0.30.14 in /home/jtliew/.local/lib/python3.9/site-packages (from haptools) (0.30.22)\n",
      "Requirement already satisfied: matplotlib>=3.5.1 in /home/jtliew/.local/lib/python3.9/site-packages (from haptools) (3.7.1)\n",
      "Requirement already satisfied: numpy>=1.20.0 in /opt/conda/lib/python3.9/site-packages (from haptools) (1.21.1)\n",
      "Requirement already satisfied: pysam>=0.19.0 in /home/jtliew/.local/lib/python3.9/site-packages (from haptools) (0.21.0)\n",
      "Requirement already satisfied: coloredlogs in /home/jtliew/.local/lib/python3.9/site-packages (from cyvcf2>=0.30.14->haptools) (15.0.1)\n",
      "Requirement already satisfied: contourpy>=1.0.1 in /home/jtliew/.local/lib/python3.9/site-packages (from matplotlib>=3.5.1->haptools) (1.0.7)\n",
      "Requirement already satisfied: cycler>=0.10 in /opt/conda/lib/python3.9/site-packages (from matplotlib>=3.5.1->haptools) (0.10.0)\n",
      "Requirement already satisfied: fonttools>=4.22.0 in /home/jtliew/.local/lib/python3.9/site-packages (from matplotlib>=3.5.1->haptools) (4.39.4)\n",
      "Requirement already satisfied: kiwisolver>=1.0.1 in /opt/conda/lib/python3.9/site-packages (from matplotlib>=3.5.1->haptools) (1.3.1)\n",
      "Requirement already satisfied: packaging>=20.0 in /opt/conda/lib/python3.9/site-packages (from matplotlib>=3.5.1->haptools) (21.0)\n",
      "Requirement already satisfied: pillow>=6.2.0 in /opt/conda/lib/python3.9/site-packages (from matplotlib>=3.5.1->haptools) (8.3.1)\n",
      "Requirement already satisfied: pyparsing>=2.3.1 in /opt/conda/lib/python3.9/site-packages (from matplotlib>=3.5.1->haptools) (2.4.7)\n",
      "Requirement already satisfied: python-dateutil>=2.7 in /opt/conda/lib/python3.9/site-packages (from matplotlib>=3.5.1->haptools) (2.8.2)\n",
      "Requirement already satisfied: importlib-resources>=3.2.0 in /home/jtliew/.local/lib/python3.9/site-packages (from matplotlib>=3.5.1->haptools) (5.12.0)\n",
      "Requirement already satisfied: cython in /opt/conda/lib/python3.9/site-packages (from pysam>=0.19.0->haptools) (0.29.24)\n",
      "Requirement already satisfied: six in /opt/conda/lib/python3.9/site-packages (from cycler>=0.10->matplotlib>=3.5.1->haptools) (1.16.0)\n",
      "Requirement already satisfied: zipp>=3.1.0 in /opt/conda/lib/python3.9/site-packages (from importlib-resources>=3.2.0->matplotlib>=3.5.1->haptools) (3.5.0)\n",
      "Requirement already satisfied: humanfriendly>=9.1 in /home/jtliew/.local/lib/python3.9/site-packages (from coloredlogs->cyvcf2>=0.30.14->haptools) (10.0)\n"
     ]
    },
    {
     "name": "stderr",
     "output_type": "stream",
     "text": [
      "/bin/sh: 1: /opt/k8s-support/bin:/opt/conda/bin:/usr/local/sbin:/usr/local/bin:/usr/sbin:/usr/bin:/sbin:/bin:/sources/homer/bin:/sources/meme-5.0.5/src/:/home/jtliew/.local/bin: not found\n",
      "sh: 1: haptools: not found\n"
     ]
    },
    {
     "data": {
      "text/plain": [
       "32512"
      ]
     },
     "execution_count": 8,
     "metadata": {},
     "output_type": "execute_result"
    }
   ],
   "source": [
    "# Index the .vcf.gz file using tabix so we can retrieve information from the file faster\n",
    "tabix -p vcf ALL.chr21.integrated_phase1_v3.20101123.snps_indels_svs.genotypes.vcf.gz\n",
    "\n",
    "# Uses the haptools function simphenotype to simulate phenotypes for our genotypes so we can run GWAS on it\n",
    "haptools simphenotype ALL.chr21.integrated_phase1_v3.20101123.snps_indels_svs.genotypes.vcf.gz output.hap -o simulated.pheno"
   ]
  },
  {
   "cell_type": "markdown",
   "id": "5d018994",
   "metadata": {},
   "source": [
    "# Retrieve Statistics About Our Dataset"
   ]
  },
  {
   "cell_type": "code",
   "execution_count": 12,
   "id": "c9fdd83c",
   "metadata": {},
   "outputs": [
    {
     "name": "stdout",
     "output_type": "stream",
     "text": [
      "Populating the interactive namespace from numpy and matplotlib\n",
      "There are 1092 samples in VCF file\n",
      "Of those, 1092 samples have phenotype values\n",
      "There are this many total variants:\n",
      "[W::bcf_hdr_check_sanity] GL should be declared as Number=G\n",
      "[W::hts_idx_load2] The index file is older than the data file: /home/jtliew/teams/31/ALL.chr21.integrated_phase1_v3.20101123.snps_indels_svs.genotypes.vcf.gz.tbi\n",
      "[W::hts_idx_load2] The index file is older than the data file: /home/jtliew/teams/31/ALL.chr21.integrated_phase1_v3.20101123.snps_indels_svs.genotypes.vcf.gz.tbi\n",
      "518965\n"
     ]
    },
    {
     "data": {
      "image/png": "[encoded data removed]",
      "text/plain": [
       "<Figure size 432x288 with 1 Axes>"
      ]
     },
     "metadata": {
      "needs_background": "light"
     },
     "output_type": "display_data"
    }
   ],
   "source": [
    "%pylab inline\n",
    "import os\n",
    "import pandas as pd\n",
    "\n",
    "# Plot histogram of LDL values. Should be a nice bell shaped curve\n",
    "#ptdata = pd.read_csv(os.environ[\"HOME\"]+\"/teams/31/simulated.pheno\",sep)\n",
    "data = pd.read_csv(os.environ[\"HOME\"]+\"/teams/31/simulated.pheno\", delim_whitespace=True, comment='#', header=None, names=['IID', 'Phenotype'])\n",
    "data.hist(\"Phenotype\");\n",
    "\n",
    "# Print out sample info\n",
    "import vcf\n",
    "reader = vcf.Reader(open(os.environ[\"HOME\"]+\"/teams/31/ALL.chr21.integrated_phase1_v3.20101123.snps_indels_svs.genotypes.vcf.gz\", \"rb\"))\n",
    "print(\"There are {numsamp} samples in VCF file\".format(numsamp=len(reader.samples)))\n",
    "numsamp_withpt = len(set(data[\"IID\"]).intersection(set(reader.samples)))\n",
    "print(\"Of those, {numsamp} samples have phenotype values\".format(numsamp=numsamp_withpt))\n",
    "\n",
    "# Print out variant info\n",
    "print(\"There are this many total variants:\")\n",
    "!bcftools index -n ~/teams/31/ALL.chr21.integrated_phase1_v3.20101123.snps_indels_svs.genotypes.vcf.gz;"
   ]
  },
  {
   "cell_type": "code",
   "execution_count": null,
   "id": "dce4a4be",
   "metadata": {},
   "outputs": [],
   "source": []
  }
 ],
 "metadata": {
  "kernelspec": {
   "display_name": "Python 3 (ipykernel)",
   "language": "python",
   "name": "python3"
  },
  "language_info": {
   "codemirror_mode": {
    "name": "ipython",
    "version": 3
   },
   "file_extension": ".py",
   "mimetype": "text/x-python",
   "name": "python",
   "nbconvert_exporter": "python",
   "pygments_lexer": "ipython3",
   "version": "3.9.5"
  }
 },
 "nbformat": 4,
 "nbformat_minor": 5
}
